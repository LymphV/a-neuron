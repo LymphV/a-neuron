{
 "cells": [
  {
   "cell_type": "code",
   "execution_count": 1,
   "metadata": {},
   "outputs": [],
   "source": [
    "import numpy as np\n",
    "from math import log, e as E\n",
    "from numpy import matrix, array\n",
    "from random import shuffle\n",
    "import matplotlib.pyplot as plt"
   ]
  },
  {
   "cell_type": "code",
   "execution_count": 2,
   "metadata": {},
   "outputs": [],
   "source": [
    "sigmoid = lambda z : 1. / (1. + E ** (-z))\n",
    "EPS = 1e-8"
   ]
  },
  {
   "cell_type": "code",
   "execution_count": 3,
   "metadata": {},
   "outputs": [],
   "source": [
    "trainSet = ([(0., 0.), (1., 0.), (0., 1.), (1., 1.)],\n",
    "            [ 0.,       1.,       1.,       1.])"
   ]
  },
  {
   "cell_type": "code",
   "execution_count": 4,
   "metadata": {},
   "outputs": [],
   "source": [
    "class Neural:\n",
    "    def __init__ (self, n):\n",
    "        self.w = matrix([0.] * n).T ###shape=(n,1)\n",
    "        self.size = n\n",
    "    def __call__ (self, x): ###x:col vector, augmented vector\n",
    "        return sigmoid((self.w.T * x)[0,0])\n",
    "    def parDiff (self, x, i, value): ###partial differential\n",
    "        w = self.w.copy()\n",
    "        w[i, 0] += EPS\n",
    "        return sigmoid((w.T * x)[0,0]) - value\n",
    "    def parDeri (self, x, value): ###partial derivative\n",
    "        return matrix([self.parDiff(x, i, value) / EPS for i in range(self.size)]).T\n",
    "    def desc (self, par):\n",
    "        self.w -= par"
   ]
  },
  {
   "cell_type": "code",
   "execution_count": 5,
   "metadata": {},
   "outputs": [],
   "source": [
    "class Lost:\n",
    "    def __init__ (self): pass\n",
    "    def __call__ (self, ys, yhs): ###ys, yh : shape=(n,)\n",
    "        return sum([-yh * log(y) - (1 - yh) * log(1 - y) for y, yh in zip(ys, yhs)])\n",
    "    def parDiff (self, ys, yhs, i, value): ###partial differential\n",
    "        ys2 = ys.copy()\n",
    "        if ys2[i] < 0.5: ### y' = y + EPS > 1 => (1 - y') < 0\n",
    "            ys2[i] += EPS\n",
    "            return self(ys2, yhs) - value\n",
    "        ys2[i] -= EPS\n",
    "        return value - self(ys2, yhs)\n",
    "    def parDeri (self, ys, yhs, value): ###partial derivative\n",
    "        return [self.parDiff(ys,yhs,i, value) / EPS for i in range(min(len(ys),len(yhs)))]"
   ]
  },
  {
   "cell_type": "code",
   "execution_count": 6,
   "metadata": {},
   "outputs": [],
   "source": [
    "1/ array([1,2,3])"
   ]
  },
  {
   "cell_type": "code",
   "execution_count": 7,
   "metadata": {},
   "outputs": [],
   "source": [
    "iterations = 10\n",
    "learningRate = 1.\n",
    "\n",
    "n = 3 ###number of args\n",
    "ts = [*zip(*trainSet)]\n",
    "neur = Neural(n)\n",
    "\n",
    "losts = []\n",
    "sumParSquare = matrix([EPS] * n).T ###adagrad\n",
    "for i in range(iterations):\n",
    "    shuffle (ts)\n",
    "    lostFunc = Lost()\n",
    "    for x, yh in ts:\n",
    "        x = matrix([*x, 1]).T\n",
    "        yhs = [yh]\n",
    "        y = neur(x)\n",
    "        #print(y)\n",
    "        lost = lostFunc([y], yhs)\n",
    "        par = neur.parDeri(x, y) * lostFunc.parDeri([y], yhs, lost)[0]\n",
    "        sumParSquare += matrix(par.A ** 2) ###adagrad\n",
    "        adagrad = matrix(np.diag((1. / sumParSquare.A ** 0.5).T.tolist()[0]))###adagrad\n",
    "        #print (adagrad, par)\n",
    "        neur.desc(learningRate * adagrad * par) ###gradient descent\n",
    "    ys = [neur(matrix([*x, 1]).T) for x in trainSet[0]]\n",
    "    \n",
    "    lost = lostFunc(ys, trainSet[1])\n",
    "    losts += [lost]\n",
    "    #print ('--')\n",
    "\n",
    "print (neur.w)\n",
    "ys = [neur(matrix([*x, 1]).T) for x in trainSet[0]]\n",
    "lost = lostFunc(ys, trainSet[1])\n",
    "print (ys, lost)\n",
    "\n",
    "plt.plot(range(iterations), losts);"
   ]
  },
  {
   "cell_type": "code",
   "execution_count": 8,
   "metadata": {},
   "outputs": [
    {
     "data": {
      "image/png": "[encoded data removed]",
      "text/plain": [
       "<Figure size 432x288 with 1 Axes>"
      ]
     },
     "metadata": {},
     "output_type": "display_data"
    }
   ],
   "source": [
    "w1, w2, w3 = neur.w.T.tolist()[0]\n",
    "x = array(range(-100, 200))/ 100\n",
    "y = -w1 * x / w2 - w3 / w2\n",
    "\n",
    "plt.plot(x, y, '-');\n",
    "plt.plot([0,1,1],[1,0,1],'.');\n",
    "plt.plot([0],[0],'x');"
   ]
  }
 ],
 "metadata": {
  "kernelspec": {
   "display_name": "Python 3",
   "language": "python",
   "name": "python3"
  },
  "language_info": {
   "codemirror_mode": {
    "name": "ipython",
    "version": 3
   },
   "file_extension": ".py",
   "mimetype": "text/x-python",
   "name": "python",
   "nbconvert_exporter": "python",
   "pygments_lexer": "ipython3",
   "version": "3.6.5"
  }
 },
 "nbformat": 4,
 "nbformat_minor": 2
}
